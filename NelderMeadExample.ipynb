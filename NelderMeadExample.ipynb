{
 "cells": [
  {
   "cell_type": "code",
   "execution_count": 1,
   "metadata": {},
   "outputs": [],
   "source": [
    "%matplotlib inline\n",
    "\n",
    "import matplotlib as mpl\n",
    "import matplotlib.pyplot as plt\n",
    "import IPython.display as ipd\n",
    "\n",
    "import numpy as np\n",
    "import numpy.linalg as la\n",
    "import numpy.random as rand\n",
    "import math as m"
   ]
  },
  {
   "cell_type": "code",
   "execution_count": 341,
   "metadata": {},
   "outputs": [],
   "source": [
    "import sys\n",
    "sys.path.append(\"C:/AFIT/Courses/Optimization/CostFuncs/ctf\")\n",
    "from ctf.functionsnd import Perm"
   ]
  },
  {
   "cell_type": "code",
   "execution_count": 488,
   "metadata": {},
   "outputs": [
    {
     "data": {
      "text/plain": [
       "2"
      ]
     },
     "execution_count": 488,
     "metadata": {},
     "output_type": "execute_result"
    }
   ],
   "source": [
    "r = Perm(2)\n",
    "r.n"
   ]
  },
  {
   "cell_type": "code",
   "execution_count": 343,
   "metadata": {},
   "outputs": [],
   "source": [
    "class NelderMead:\n",
    "    def __init__(self,n, cost_func, **kwargs ):\n",
    "        #Arguments include start_loc\n",
    "        self.n = n\n",
    "        start_loc = np.zeros(n)\n",
    "        self.f = cost_func\n",
    "        for name, value in kwargs.items():\n",
    "            if name == \"start_loc\":\n",
    "                start_loc = value\n",
    "\n",
    "        #define the starting simplex\n",
    "        self.pts = np.zeros((n,n+1))\n",
    "        self.pts[:,0] = start_loc\n",
    "        for i in range(n):\n",
    "            tmp_pt = start_loc.copy()\n",
    "            tmp_pt[i] += 1.0\n",
    "            self.pts[:,i+1] = tmp_pt\n",
    "        self.vals = np.zeros(n+1)\n",
    "        for i in range(n+1):\n",
    "            self.vals[i] = self.f(self.pts[:,i])\n",
    "        self.sortPts()\n",
    "     \n",
    "    def sortPts(self):\n",
    "        idxs = np.argsort(self.vals)\n",
    "        self.pts = self.pts[:,idxs]\n",
    "        self.vals = self.vals[idxs]\n",
    "        self.cent = np.mean(self.pts[:,:self.n],axis=1)\n",
    "        print('Centroid is ',self.cent,'from',self.pts)\n",
    "\n",
    "        \n",
    "    def iterate(self):\n",
    "        #I assume self.pts[0] is the min and self.pts[n] is the max\n",
    "        good_move=False\n",
    "        worst_pt = self.pts[:,self.n]\n",
    "        worst_cost = self.vals[self.n]\n",
    "        move_dir = self.cent - worst_pt\n",
    "        flip_pt = worst_pt + 2.*move_dir\n",
    "        flip_cost = self.f(flip_pt)\n",
    "        if flip_cost < self.vals[0]:\n",
    "            extend_pt = worst_pt + 3.*move_dir\n",
    "            extend_cost = self.f(extend_pt)\n",
    "            if extend_cost < flip_cost:\n",
    "                self.pts[:,self.n] = extend_pt\n",
    "                self.vals[self.n] = extend_cost\n",
    "                good_move=True\n",
    "            else:\n",
    "                self.pts[:,self.n] = flip_pt\n",
    "                self.vals[self.n] = flip_cost\n",
    "                good_move=True\n",
    "        elif flip_cost < self.vals[self.n-1]:\n",
    "            self.pts[:,self.n] = flip_pt\n",
    "            self.vals[self.n] = flip_cost\n",
    "            good_move=True\n",
    "        else: #New cost not better!\n",
    "            if flip_cost < worst_cost:\n",
    "                flip_pt2 = worst_pt + 1.5*move_dir\n",
    "                flip_cost2 = self.f(flip_pt2)\n",
    "                if flip_cost2 < flip_cost:\n",
    "                    self.pts[:,self.n] = flip_pt2\n",
    "                    self.vals[self.n] = flip_cost2\n",
    "                    good_move=True\n",
    "            else:\n",
    "                flip_pt2 = worst_pt + 0.5*move_dir\n",
    "                flip_cost2 = self.f(flip_pt2)\n",
    "                if flip_cost2 < worst_cost:\n",
    "                    self.pts[:,self.n] = flip_pt2\n",
    "                    self.vals[self.n] = flip_cost2\n",
    "                    good_move=True\n",
    "        if not good_move:\n",
    "            #Shrinkage\n",
    "            for i in range(1,self.n+1):\n",
    "                self.pts[:,i] = 0.5 * (self.pts[:,i] + self.pts[:,0])\n",
    "                self.vals[i] = self.f(self.pts[:,i])\n",
    "        #print ('Before sort, have...',self.pts,self.vals)\n",
    "        self.sortPts()\n",
    "        \n",
    "    def currBest(self):\n",
    "        return (self.pts[:,0],self.vals[0])\n",
    "        "
   ]
  },
  {
   "cell_type": "code",
   "execution_count": 479,
   "metadata": {},
   "outputs": [
    {
     "name": "stdout",
     "output_type": "stream",
     "text": [
      "Centroid is  [2.7 2.2] from [[2.2 3.2 2.2]\n",
      " [2.2 2.2 3.2]]\n"
     ]
    }
   ],
   "source": [
    "solver = NelderMead(r.n,r.cost, start_loc=np.array([2.2,2.2]))"
   ]
  },
  {
   "cell_type": "code",
   "execution_count": 514,
   "metadata": {},
   "outputs": [
    {
     "name": "stdout",
     "output_type": "stream",
     "text": [
      "Centroid is  [1.0000077  0.49979479] from [[1.00069033 0.99932507 0.99977541]\n",
      " [0.49923576 0.50035382 0.49963576]]\n"
     ]
    },
    {
     "data": {
      "image/png": "[encoded data removed]",
      "text/plain": [
       "<matplotlib.figure.Figure at 0x223fd52da20>"
      ]
     },
     "metadata": {},
     "output_type": "display_data"
    }
   ],
   "source": [
    "solver.iterate()\n",
    "plot_pts = solver.pts\n",
    "plot_pts = np.append(plot_pts,solver.pts[:,0].reshape(r.n,1),axis=1)\n",
    "plt.plot(plot_pts[0,:],plot_pts[1,:])\n",
    "plt.plot(r.min[0],r.min[1],marker='o',color='red')\n",
    "axes = plt.gca()\n",
    "axes.set_ylim([-.5,3])\n",
    "axes.set_xlim([-.5,3])\n",
    "plt.grid()"
   ]
  },
  {
   "cell_type": "code",
   "execution_count": 434,
   "metadata": {},
   "outputs": [
    {
     "data": {
      "text/plain": [
       "array([[0.41003034, 0.38641739, 0.38455166],\n",
       "       [0.89611579, 0.90319095, 0.90891962]])"
      ]
     },
     "execution_count": 434,
     "metadata": {},
     "output_type": "execute_result"
    }
   ],
   "source": [
    "solver.pts"
   ]
  },
  {
   "cell_type": "code",
   "execution_count": 453,
   "metadata": {},
   "outputs": [
    {
     "data": {
      "text/plain": [
       "7.39300249999939e-05"
      ]
     },
     "execution_count": 453,
     "metadata": {},
     "output_type": "execute_result"
    }
   ],
   "source": [
    "r.cost(np.array([.399,.899]))"
   ]
  },
  {
   "cell_type": "code",
   "execution_count": 448,
   "metadata": {},
   "outputs": [
    {
     "data": {
      "text/plain": [
       "3.81276089999956e-05"
      ]
     },
     "execution_count": 448,
     "metadata": {},
     "output_type": "execute_result"
    }
   ],
   "source": [
    "r.cost(np.array([.4,.899]))"
   ]
  },
  {
   "cell_type": "code",
   "execution_count": 478,
   "metadata": {},
   "outputs": [
    {
     "data": {
      "text/plain": [
       "array([0., 0.])"
      ]
     },
     "execution_count": 478,
     "metadata": {},
     "output_type": "execute_result"
    }
   ],
   "source": [
    "r.grad(np.array([1,.5]))"
   ]
  },
  {
   "cell_type": "code",
   "execution_count": null,
   "metadata": {},
   "outputs": [],
   "source": []
  }
 ],
 "metadata": {
  "kernelspec": {
   "display_name": "Python 3",
   "language": "python",
   "name": "python3"
  },
  "language_info": {
   "codemirror_mode": {
    "name": "ipython",
    "version": 3
   },
   "file_extension": ".py",
   "mimetype": "text/x-python",
   "name": "python",
   "nbconvert_exporter": "python",
   "pygments_lexer": "ipython3",
   "version": "3.6.4"
  }
 },
 "nbformat": 4,
 "nbformat_minor": 2
}
