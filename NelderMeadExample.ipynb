{
 "cells": [
  {
   "cell_type": "code",
   "execution_count": 1,
   "metadata": {},
   "outputs": [],
   "source": [
    "%matplotlib inline\n",
    "\n",
    "import matplotlib as mpl\n",
    "import matplotlib.pyplot as plt\n",
    "import IPython.display as ipd\n",
    "\n",
    "import numpy as np\n",
    "import numpy.linalg as la\n",
    "import numpy.random as rand\n",
    "import math as m"
   ]
  },
  {
   "cell_type": "code",
   "execution_count": 2,
   "metadata": {},
   "outputs": [],
   "source": [
    "import sys\n",
    "sys.path.append(\"C:/AFIT/Courses/Optimization/CostFuncs/ctf\")\n",
    "from ctf.functionsnd import Rosenbrock"
   ]
  },
  {
   "cell_type": "code",
   "execution_count": 54,
   "metadata": {},
   "outputs": [
    {
     "data": {
      "text/plain": [
       "2"
      ]
     },
     "execution_count": 54,
     "metadata": {},
     "output_type": "execute_result"
    }
   ],
   "source": [
    "r = Rosenbrock(2)\n",
    "r.n"
   ]
  },
  {
   "cell_type": "code",
   "execution_count": 257,
   "metadata": {},
   "outputs": [],
   "source": [
    "class NelderMead:\n",
    "    def __init__(self,n, cost_func, **kwargs ):\n",
    "        #Arguments include start_loc\n",
    "        self.n = n\n",
    "        start_loc = np.zeros(n)\n",
    "        self.f = cost_func\n",
    "        for name, value in kwargs.items():\n",
    "            if name == \"start_loc\":\n",
    "                start_loc = value\n",
    "\n",
    "        #define the starting simplex\n",
    "        self.pts = np.zeros((n,n+1))\n",
    "        self.pts[:,0] = start_loc\n",
    "        for i in range(n):\n",
    "            tmp_pt = start_loc.copy()\n",
    "            tmp_pt[i] += 1.0\n",
    "            self.pts[:,i+1] = tmp_pt\n",
    "        self.vals = np.zeros(n+1)\n",
    "        for i in range(n+1):\n",
    "            self.vals[i] = self.f(self.pts[:,i])\n",
    "        self.sortPts()\n",
    "     \n",
    "    def sortPts(self):\n",
    "        idxs = np.argsort(self.vals)\n",
    "        self.pts = self.pts[:,idxs]\n",
    "        self.vals = self.vals[idxs]\n",
    "        self.cent = np.mean(self.pts[:,:self.n],axis=1)\n",
    "        print('Centroid is ',self.cent,'from',self.pts)\n",
    "\n",
    "        \n",
    "    def iterate(self):\n",
    "        #I assume self.pts[0] is the min and self.pts[n] is the max\n",
    "        good_move=False\n",
    "        worst_pt = self.pts[:,self.n]\n",
    "        worst_cost = self.vals[self.n]\n",
    "        move_dir = self.cent - worst_pt\n",
    "        flip_pt = worst_pt + 2.*move_dir\n",
    "        flip_cost = self.f(flip_pt)\n",
    "        if flip_cost < self.vals[0]:\n",
    "            extend_pt = worst_pt + 3.*move_dir\n",
    "            extend_cost = self.f(extend_pt)\n",
    "            if extend_cost < flip_cost:\n",
    "                self.pts[:,self.n] = extend_pt\n",
    "                self.vals[self.n] = extend_cost\n",
    "                good_move=True\n",
    "            else:\n",
    "                self.pts[:,self.n] = flip_pt\n",
    "                self.vals[self.n] = flip_cost\n",
    "                good_move=True\n",
    "        elif flip_cost < self.vals[self.n-1]:\n",
    "            self.pts[:,self.n] = flip_pt\n",
    "            self.vals[self.n] = flip_cost\n",
    "            good_move=True\n",
    "        else: #New cost not better!\n",
    "            if flip_cost < worst_cost:\n",
    "                flip_pt2 = worst_pt + 1.5*move_dir\n",
    "                flip_cost2 = self.f(flip_pt2)\n",
    "                if flip_cost2 < flip_cost:\n",
    "                    self.pts[:,self.n] = flip_pt2\n",
    "                    self.vals[self.n] = flip_cost2\n",
    "                    good_move=True\n",
    "            else:\n",
    "                flip_pt2 = worst_pt + 0.5*move_dir\n",
    "                flip_cost2 = self.f(flip_pt2)\n",
    "                if flip_cost2 < worst_cost:\n",
    "                    self.pts[:,self.n] = flip_pt2\n",
    "                    self.vals[self.n] = flip_cost2\n",
    "                    good_move=True\n",
    "        if not good_move:\n",
    "            #Shrinkage\n",
    "            for i in range(1,self.n+1):\n",
    "                self.pts[:,i] = 0.5 * (self.pts[:,i] + self.pts[:,0])\n",
    "                self.vals[i] = self.f(self.pts[:,i])\n",
    "        #print ('Before sort, have...',self.pts,self.vals)\n",
    "        self.sortPts()\n",
    "        \n",
    "    def currBest(self):\n",
    "        return (self.pts[:,0],self.vals[0])\n",
    "        "
   ]
  },
  {
   "cell_type": "code",
   "execution_count": 220,
   "metadata": {},
   "outputs": [
    {
     "name": "stdout",
     "output_type": "stream",
     "text": [
      "Centroid is  [0.5 0. ] from [[0. 1. 0.]\n",
      " [0. 0. 1.]]\n"
     ]
    }
   ],
   "source": [
    "solver = NelderMead(r.n,r.cost)"
   ]
  },
  {
   "cell_type": "code",
   "execution_count": 276,
   "metadata": {},
   "outputs": [
    {
     "name": "stdout",
     "output_type": "stream",
     "text": [
      "Before sort, have... [[1.0084272  0.98748391 1.00215703]\n",
      " [1.01771008 0.9760347  1.00377582]] [1.32587532e-04 2.39502840e-04 3.41263332e-05]\n",
      "Centroid is  [1.00529211 1.01074295] from [[1.00215703 1.0084272  0.98748391]\n",
      " [1.00377582 1.01771008 0.9760347 ]]\n"
     ]
    },
    {
     "data": {
      "image/png": "[encoded data removed]",
      "text/plain": [
       "<matplotlib.figure.Figure at 0x223fd786048>"
      ]
     },
     "metadata": {},
     "output_type": "display_data"
    }
   ],
   "source": [
    "solver.iterate()\n",
    "plot_pts = solver.pts\n",
    "plot_pts = np.append(plot_pts,solver.pts[:,0].reshape(r.n,1),axis=1)\n",
    "plt.plot(plot_pts[0,:],plot_pts[1,:])\n",
    "plt.plot(r.min[0],r.min[1],marker='o',color='red')\n",
    "axes = plt.gca()\n",
    "axes.set_ylim([-.5,1])\n",
    "axes.set_xlim([-.5,1])\n",
    "plt.grid()"
   ]
  },
  {
   "cell_type": "code",
   "execution_count": 277,
   "metadata": {},
   "outputs": [
    {
     "data": {
      "text/plain": [
       "array([[1.00215703, 1.0084272 , 0.98748391],\n",
       "       [1.00377582, 1.01771008, 0.9760347 ]])"
      ]
     },
     "execution_count": 277,
     "metadata": {},
     "output_type": "execute_result"
    }
   ],
   "source": [
    "solver.pts"
   ]
  },
  {
   "cell_type": "code",
   "execution_count": null,
   "metadata": {},
   "outputs": [],
   "source": []
  }
 ],
 "metadata": {
  "kernelspec": {
   "display_name": "Python 3",
   "language": "python",
   "name": "python3"
  },
  "language_info": {
   "codemirror_mode": {
    "name": "ipython",
    "version": 3
   },
   "file_extension": ".py",
   "mimetype": "text/x-python",
   "name": "python",
   "nbconvert_exporter": "python",
   "pygments_lexer": "ipython3",
   "version": "3.6.4"
  }
 },
 "nbformat": 4,
 "nbformat_minor": 2
}
